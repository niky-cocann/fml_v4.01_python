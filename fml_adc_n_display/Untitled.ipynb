{
 "cells": [
  {
   "cell_type": "code",
   "execution_count": 1,
   "id": "869c6198",
   "metadata": {},
   "outputs": [],
   "source": [
    "import rpicm4\n",
    "import adc2\n",
    "\n",
    "adc = adc2.MCP346xR(rpicm4.SPI.DEV0_CS0)"
   ]
  },
  {
   "cell_type": "code",
   "execution_count": 4,
   "id": "032bac44",
   "metadata": {},
   "outputs": [
    {
     "name": "stdout",
     "output_type": "stream",
     "text": [
      "> read config\n",
      "  status byte: 0x17\n",
      "  configuration registers: [0xC3, 0x0C, 0x8B, 0x00]\n"
     ]
    }
   ],
   "source": [
    "adc.read_config()"
   ]
  },
  {
   "cell_type": "code",
   "execution_count": 5,
   "id": "88162eb9",
   "metadata": {},
   "outputs": [
    {
     "name": "stdout",
     "output_type": "stream",
     "text": [
      "> read irq\n",
      "  status byte: 0x17\n",
      "  irq register: 0x73\n"
     ]
    }
   ],
   "source": [
    "adc.read_irq()"
   ]
  },
  {
   "cell_type": "code",
   "execution_count": 6,
   "id": "71e7bf47",
   "metadata": {},
   "outputs": [
    {
     "data": {
      "text/plain": [
       "1"
      ]
     },
     "execution_count": 6,
     "metadata": {},
     "output_type": "execute_result"
    }
   ],
   "source": [
    "adc.irq.get_en_fastcmd()"
   ]
  },
  {
   "cell_type": "code",
   "execution_count": null,
   "id": "d5c04e61",
   "metadata": {},
   "outputs": [],
   "source": []
  }
 ],
 "metadata": {
  "kernelspec": {
   "display_name": "Python 3",
   "language": "python",
   "name": "python3"
  },
  "language_info": {
   "codemirror_mode": {
    "name": "ipython",
    "version": 3
   },
   "file_extension": ".py",
   "mimetype": "text/x-python",
   "name": "python",
   "nbconvert_exporter": "python",
   "pygments_lexer": "ipython3",
   "version": "3.7.3"
  }
 },
 "nbformat": 4,
 "nbformat_minor": 5
}
